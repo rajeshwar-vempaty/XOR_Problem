{
 "cells": [
  {
   "cell_type": "markdown",
   "id": "e0539388",
   "metadata": {},
   "source": [
    "### XOR Problem using Backpropagation in Neural Network"
   ]
  },
  {
   "cell_type": "code",
   "execution_count": 3,
   "id": "e0310865",
   "metadata": {},
   "outputs": [
    {
     "name": "stdout",
     "output_type": "stream",
     "text": [
      "Initial hidden layer weights: [0.09333662 0.59915562] [0.52724123 0.02238951]\n",
      "Initial hidden layer bias: 0.6823272145739806 0.7709772398857416\n",
      "Initial output weights: [0.28857553] [0.99353495]\n",
      "Initial output bias: 0.5395990283865506\n",
      "Final hidden weights: [3.79366002 8.71104197] [3.79475445 8.71519138]\n",
      "Final hidden layer bias: -5.680876611564101 -5.592226586252339\n",
      "Final output weights: [-11.30527924] [9.81884792]\n",
      "Final output bias: -3.9055553393613627\n",
      "\n",
      "Output from neural network after 10000 Iterations: [0.01969565] [0.98219673] [0.98219263] [0.01925203]\n"
     ]
    }
   ],
   "source": [
    "import numpy as np\n",
    "\n",
    "x1 = np.array([[0,0],[0,1],[1,0],[1,1]]) #Inputs\n",
    "y1 = np.array([[0], [1], [1], [0]]) #Outputs\n",
    "\n",
    "def sigmoid(z):\n",
    "    z= 1/(1+np.exp(-z))\n",
    "    return z\n",
    "\n",
    "l_rate = 0.5 #Intializing learning rate\n",
    "\n",
    "iterations = 10000\n",
    "\n",
    "#Intializing Layers\n",
    "n_input = 2\n",
    "n_hidden = 2\n",
    "n_output = 1 \n",
    "\n",
    "\n",
    "#Assigning Weights at hidden layer\n",
    "hidden_layer_wt = np.random.rand(n_input, n_hidden) \n",
    "hidden_layer_bias = np.random.rand(n_hidden)\n",
    "\n",
    "#Assigning Weights at output layer\n",
    "output_layer_wt  = np.random.rand(n_hidden, n_output)\n",
    "output_layer_bias = np.random.rand(n_output)\n",
    "\n",
    "print(\"Initial hidden layer weights: \",end='')\n",
    "print(*hidden_layer_wt)\n",
    "print(\"Initial hidden layer bias: \",end='')\n",
    "print(*hidden_layer_bias)\n",
    "\n",
    "print(\"Initial output weights: \",end='')\n",
    "print(*output_layer_wt)\n",
    "print(\"Initial output bias: \",end='')\n",
    "print(*output_layer_bias)\n",
    "\n",
    "for i in range(iterations):\n",
    "    #Forward propagation\n",
    "    h_layer_int = np.dot(x1,hidden_layer_wt)\n",
    "    h_layer_int = h_layer_int + hidden_layer_bias\n",
    "    h_layer_output = sigmoid(h_layer_int)\n",
    "    \n",
    "    o_layer_int = np.dot(h_layer_output, output_layer_wt)\n",
    "    o_layer_int = o_layer_int + output_layer_bias\n",
    "    o_layer_output = sigmoid(o_layer_int)\n",
    "    \n",
    "    #Back propagation\n",
    "    error = (y1 - o_layer_output)\n",
    "    delta_output = error * (o_layer_output * (1 - o_layer_output))\n",
    "    \n",
    "    error_hlayer = np.dot(delta_output,output_layer_wt.T)\n",
    "    delta_hidden = error_hlayer * (h_layer_output * (1 - h_layer_output))\n",
    "    \n",
    "    #Updating weights\n",
    "    \n",
    "    output_layer_wt = output_layer_wt + np.dot(h_layer_output.T, delta_output) * l_rate\n",
    "    output_layer_bias = output_layer_bias + np.sum(delta_output) * l_rate\n",
    "    hidden_layer_wt = hidden_layer_wt + np.dot(x1.T, delta_hidden) * l_rate\n",
    "    hidden_layer_bias = hidden_layer_bias + np.sum(delta_hidden) * l_rate\n",
    "  \n",
    "\n",
    "print(\"Final hidden weights: \",end='')\n",
    "print(*hidden_layer_wt)\n",
    "print(\"Final hidden layer bias: \",end='')\n",
    "print(*hidden_layer_bias)\n",
    "\n",
    "\n",
    "print(\"Final output weights: \",end='')\n",
    "print(*output_layer_wt)\n",
    "print(\"Final output bias: \",end='')\n",
    "print(*output_layer_bias)\n",
    "\n",
    "print(\"\\nOutput from neural network after\", iterations,  \"Iterations: \",end='')\n",
    "print(*o_layer_output)"
   ]
  }
 ],
 "metadata": {
  "kernelspec": {
   "display_name": "Python 3 (ipykernel)",
   "language": "python",
   "name": "python3"
  },
  "language_info": {
   "codemirror_mode": {
    "name": "ipython",
    "version": 3
   },
   "file_extension": ".py",
   "mimetype": "text/x-python",
   "name": "python",
   "nbconvert_exporter": "python",
   "pygments_lexer": "ipython3",
   "version": "3.9.12"
  }
 },
 "nbformat": 4,
 "nbformat_minor": 5
}
